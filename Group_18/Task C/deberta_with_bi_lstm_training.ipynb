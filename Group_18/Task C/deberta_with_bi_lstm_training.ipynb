{
  "metadata": {
    "kernelspec": {
      "language": "python",
      "display_name": "Python 3",
      "name": "python3"
    },
    "language_info": {
      "name": "python",
      "version": "3.10.12",
      "mimetype": "text/x-python",
      "codemirror_mode": {
        "name": "ipython",
        "version": 3
      },
      "pygments_lexer": "ipython3",
      "nbconvert_exporter": "python",
      "file_extension": ".py"
    },
    "kaggle": {
      "accelerator": "gpu",
      "dataSources": [
        {
          "sourceId": 11257211,
          "sourceType": "datasetVersion",
          "datasetId": 7035372
        }
      ],
      "dockerImageVersionId": 30919,
      "isInternetEnabled": true,
      "language": "python",
      "sourceType": "notebook",
      "isGpuEnabled": true
    },
    "colab": {
      "provenance": []
    }
  },
  "nbformat_minor": 0,
  "nbformat": 4,
  "cells": [
    {
      "cell_type": "markdown",
      "source": [
        "## DeBERTa + BiLSTM NLI Model Training\n",
        "\n",
        "This notebook fine-tunes a custom **DeBERTa + BiLSTM** model for a **binary Natural Language Inference (NLI)** task.\n",
        "\n",
        "The objective is to predict whether a given *hypothesis* logically follows from a *premise*. The model leverages:\n",
        "- A pretrained **DeBERTa-v3-base** transformer for rich contextual embeddings.\n",
        "- A **bidirectional LSTM** to capture sequential dependencies.\n",
        "- A **fully connected classifier** for final binary classification.\n",
        "\n",
        "This training pipeline includes:\n",
        "- Dataset loading and tokenization using HuggingFace.\n",
        "- Model architecture definition and training loop.\n",
        "- Hyperparameter setup and optimizer configuration.\n",
        "- Training for 6 epochs and model evaluation on a validation set.\n",
        "- Saving the trained model and generating predictions on the validation set.\n"
      ],
      "metadata": {
        "id": "Yw6cZxMMC7w8"
      }
    },
    {
      "cell_type": "code",
      "source": [
        "import torch\n",
        "import pandas as pd\n",
        "import numpy as np\n",
        "import matplotlib.pyplot as plt\n",
        "from torch.utils.data import DataLoader, Dataset\n",
        "import torch.nn as nn\n",
        "from sklearn.metrics import accuracy_score, classification_report, confusion_matrix\n",
        "from transformers import AutoModel, AutoTokenizer\n",
        "\n",
        "# Device configuration\n",
        "device = torch.device(\"cuda\" if torch.cuda.is_available() else \"cpu\")\n"
      ],
      "metadata": {
        "_uuid": "8f2839f25d086af736a60e9eeb907d3b93b6e0e5",
        "_cell_guid": "b1076dfc-b9ad-4769-8c92-a6c4dae69d19",
        "trusted": true,
        "execution": {
          "iopub.status.busy": "2025-04-07T22:19:04.930520Z",
          "iopub.execute_input": "2025-04-07T22:19:04.930900Z",
          "iopub.status.idle": "2025-04-07T22:19:04.936080Z",
          "shell.execute_reply.started": "2025-04-07T22:19:04.930872Z",
          "shell.execute_reply": "2025-04-07T22:19:04.934958Z"
        },
        "id": "aoi14hFwBUXn"
      },
      "outputs": [],
      "execution_count": null
    },
    {
      "cell_type": "markdown",
      "source": [
        "## Load Train and Validation Data\n",
        "\n",
        "We begin by importing and reading the `train.csv` and `dev.csv` files containing premise–hypothesis pairs and binary labels for entailment.\n"
      ],
      "metadata": {
        "id": "3zAO0KkIDBIp"
      }
    },
    {
      "cell_type": "code",
      "source": [
        "# Load tokenizer and datasets\n",
        "tokenizer = AutoTokenizer.from_pretrained(\"microsoft/deberta-v3-base\")\n",
        "df_train = pd.read_csv(\"/kaggle/input/nli-dataset/train.csv\")\n",
        "df_val = pd.read_csv(\"/kaggle/input/nli-dataset/dev.csv\")\n"
      ],
      "metadata": {
        "trusted": true,
        "execution": {
          "iopub.status.busy": "2025-04-07T22:19:04.937300Z",
          "iopub.execute_input": "2025-04-07T22:19:04.937612Z",
          "iopub.status.idle": "2025-04-07T22:19:06.254040Z",
          "shell.execute_reply.started": "2025-04-07T22:19:04.937584Z",
          "shell.execute_reply": "2025-04-07T22:19:06.253315Z"
        },
        "id": "riAFpBLGBUXq",
        "outputId": "0bae9875-0473-4b6c-87d7-b0eaf45a6e0a"
      },
      "outputs": [
        {
          "name": "stderr",
          "text": "/usr/local/lib/python3.10/dist-packages/transformers/convert_slow_tokenizer.py:561: UserWarning: The sentencepiece tokenizer that you are converting to a fast tokenizer uses the byte fallback option which is not implemented in the fast tokenizers. In practice this means that the fast version of the tokenizer can produce unknown tokens whereas the sentencepiece version would have converted these unknown tokens into a sequence of byte tokens matching the original piece of text.\n  warnings.warn(\n",
          "output_type": "stream"
        }
      ],
      "execution_count": null
    },
    {
      "cell_type": "markdown",
      "source": [
        "## Initialize DeBERTa Tokenizer\n",
        "\n",
        "We use the `microsoft/deberta-v3-base` tokenizer from HuggingFace Transformers to tokenize the text inputs. The inputs are padded and truncated to a maximum length of 128 tokens.\n"
      ],
      "metadata": {
        "id": "lTlpe8JeDJ-D"
      }
    },
    {
      "cell_type": "code",
      "source": [
        "class NLIDataset(Dataset):\n",
        "    def __init__(self, encodings, labels):\n",
        "        self.encodings = encodings\n",
        "        self.labels = labels\n",
        "\n",
        "    def __getitem__(self, idx):\n",
        "        return {\n",
        "            'input_ids': self.encodings['input_ids'][idx],\n",
        "            'attention_mask': self.encodings['attention_mask'][idx],\n",
        "            'labels': self.labels[idx]\n",
        "        }\n",
        "\n",
        "    def __len__(self):\n",
        "        return len(self.labels)\n",
        "\n",
        "def tokenize_premise_hypothesis(premises, hypotheses, max_length=128):\n",
        "    return tokenizer(\n",
        "        premises,\n",
        "        hypotheses,\n",
        "        padding='max_length',\n",
        "        truncation=True,\n",
        "        max_length=max_length,\n",
        "        return_tensors='pt'\n",
        "    )\n"
      ],
      "metadata": {
        "trusted": true,
        "execution": {
          "iopub.status.busy": "2025-04-07T22:19:06.255202Z",
          "iopub.execute_input": "2025-04-07T22:19:06.255445Z",
          "iopub.status.idle": "2025-04-07T22:19:06.260210Z",
          "shell.execute_reply.started": "2025-04-07T22:19:06.255409Z",
          "shell.execute_reply": "2025-04-07T22:19:06.259484Z"
        },
        "id": "r2AEHuquBUXr"
      },
      "outputs": [],
      "execution_count": null
    },
    {
      "cell_type": "markdown",
      "source": [
        "## Define NLI Dataset Class\n",
        "\n",
        "A custom `NLIDataset` class wraps the tokenized inputs and labels, allowing seamless loading into PyTorch DataLoaders. Each item includes:\n",
        "- `input_ids`\n",
        "- `attention_mask`\n",
        "- `labels`\n"
      ],
      "metadata": {
        "id": "_2M5yl-6DMvY"
      }
    },
    {
      "cell_type": "markdown",
      "source": [
        "## Model Architecture: DeBERTa + BiLSTM\n",
        "\n",
        "The model architecture is defined as follows:\n",
        "\n",
        "- **Base Encoder**: `microsoft/deberta-v3-base`, output dimension: 768\n",
        "- **LSTM Layer**:\n",
        "  - Type: Bidirectional LSTM\n",
        "  - Input size: 768\n",
        "  - Hidden dimension: 384 (x2 due to bidirectionality → 768 total)\n",
        "  - Num layers: 1\n",
        "  - Batch-first format\n",
        "- **Dropout**: 0.3892 (to reduce overfitting)\n",
        "- **Fully Connected Layer**: `Linear(768, 2)` for binary classification\n",
        "\n",
        "Forward pass:\n",
        "- Input tokens are passed through DeBERTa to get contextual embeddings.\n",
        "- Embeddings are fed into the BiLSTM.\n",
        "- The first hidden state is pooled.\n",
        "- Dropout is applied.\n",
        "- Output logits are generated by the classifier.\n"
      ],
      "metadata": {
        "id": "DbfkMDzzDT3W"
      }
    },
    {
      "cell_type": "code",
      "source": [
        "class DeBERTaWithBiLSTM(nn.Module):\n",
        "    def __init__(self, hidden_dim=384, dropout=0.3892):\n",
        "        super().__init__()\n",
        "        self.base_model = AutoModel.from_pretrained(\"microsoft/deberta-v3-base\")\n",
        "        self.bilstm = nn.LSTM(768, hidden_dim, num_layers=1, bidirectional=True, batch_first=True)\n",
        "        self.dropout = nn.Dropout(dropout)\n",
        "        self.classifier = nn.Linear(hidden_dim * 2, 2)\n",
        "\n",
        "    def forward(self, input_ids, attention_mask, labels=None):\n",
        "        outputs = self.base_model(input_ids=input_ids, attention_mask=attention_mask)\n",
        "        sequence_output = outputs.last_hidden_state\n",
        "        lstm_out, _ = self.bilstm(sequence_output)\n",
        "        pooled_output = lstm_out[:, 0]\n",
        "        out = self.dropout(pooled_output)\n",
        "        logits = self.classifier(out)\n",
        "        if labels is not None:\n",
        "            loss_fn = nn.CrossEntropyLoss()\n",
        "            loss = loss_fn(logits, labels)\n",
        "            return {'loss': loss, 'logits': logits}\n",
        "        return {'logits': logits}\n"
      ],
      "metadata": {
        "trusted": true,
        "execution": {
          "iopub.status.busy": "2025-04-07T22:19:06.261219Z",
          "iopub.execute_input": "2025-04-07T22:19:06.261533Z",
          "iopub.status.idle": "2025-04-07T22:19:06.279732Z",
          "shell.execute_reply.started": "2025-04-07T22:19:06.261512Z",
          "shell.execute_reply": "2025-04-07T22:19:06.278880Z"
        },
        "id": "YS2xuAGPBUXr"
      },
      "outputs": [],
      "execution_count": null
    },
    {
      "cell_type": "markdown",
      "source": [
        "## Training Hyperparameters\n",
        "\n",
        "The following hyperparameters were selected (e.g., via Optuna tuning):\n",
        "\n",
        "- `learning_rate`: 8.66e-6\n",
        "- `weight_decay`: 4.37e-4\n",
        "- `dropout`: 0.3892\n",
        "- `hidden_dim`: 384\n",
        "- `batch_size`: 32\n",
        "- `num_epochs`: 6\n",
        "\n",
        "Optimizer used: `AdamW`\n",
        "Loss function: `CrossEntropyLoss`\n"
      ],
      "metadata": {
        "id": "UUe04985ERsz"
      }
    },
    {
      "cell_type": "code",
      "source": [
        "# Best hyperparameters from Optuna\n",
        "learning_rate = 8.663394579529044e-06\n",
        "weight_decay = 0.00043725068136265345\n",
        "dropout = 0.38920213235632034\n",
        "hidden_dim = 384\n",
        "batch_size = 32\n",
        "num_epochs = 6"
      ],
      "metadata": {
        "trusted": true,
        "execution": {
          "iopub.status.busy": "2025-04-07T22:19:06.280373Z",
          "iopub.execute_input": "2025-04-07T22:19:06.280616Z",
          "iopub.status.idle": "2025-04-07T22:19:06.296430Z",
          "shell.execute_reply.started": "2025-04-07T22:19:06.280597Z",
          "shell.execute_reply": "2025-04-07T22:19:06.295577Z"
        },
        "id": "WuANRSe9BUXr"
      },
      "outputs": [],
      "execution_count": null
    },
    {
      "cell_type": "markdown",
      "source": [
        "## Training Loop\n",
        "\n",
        "The model is trained for 6 epochs. At each epoch:\n",
        "\n",
        "1. The model is trained on the entire training set using backpropagation.\n",
        "2. Validation is performed on the `dev.csv` split.\n",
        "3. Validation loss and accuracy are tracked.\n",
        "4. Gradient clipping is applied to a max norm of 1.0 to avoid exploding gradients.\n",
        "5. The best model weights are retained.\n",
        "\n",
        "Both training and validation losses are logged per epoch for later visualization.\n"
      ],
      "metadata": {
        "id": "YscdqAXfETzO"
      }
    },
    {
      "cell_type": "code",
      "source": [
        "train_enc = tokenize_premise_hypothesis(df_train['premise'].tolist(), df_train['hypothesis'].tolist())\n",
        "val_enc = tokenize_premise_hypothesis(df_val['premise'].tolist(), df_val['hypothesis'].tolist())\n",
        "\n",
        "train_labels = torch.tensor(df_train['label'].values)\n",
        "val_labels = torch.tensor(df_val['label'].values)\n",
        "\n",
        "train_dataset = NLIDataset(train_enc, train_labels)\n",
        "val_dataset = NLIDataset(val_enc, val_labels)\n",
        "\n",
        "train_loader = DataLoader(train_dataset, batch_size=batch_size, shuffle=True)\n",
        "val_loader = DataLoader(val_dataset, batch_size=batch_size)\n"
      ],
      "metadata": {
        "trusted": true,
        "execution": {
          "iopub.status.busy": "2025-04-07T22:19:06.297360Z",
          "iopub.execute_input": "2025-04-07T22:19:06.297693Z",
          "iopub.status.idle": "2025-04-07T22:19:11.906718Z",
          "shell.execute_reply.started": "2025-04-07T22:19:06.297663Z",
          "shell.execute_reply": "2025-04-07T22:19:11.905899Z"
        },
        "id": "JQUoNqBXBUXs"
      },
      "outputs": [],
      "execution_count": null
    },
    {
      "cell_type": "markdown",
      "source": [
        "During each training epoch, the model performs the following steps:\n",
        "\n",
        "1. **Training Phase**\n",
        "   - The model is set to training mode.\n",
        "   - For each batch in the training data:\n",
        "     - Gradients are reset.\n",
        "     - Forward pass is performed to compute the loss.\n",
        "     - Backward pass is executed to compute gradients.\n",
        "     - Gradient clipping (`max_norm=1.0`) is applied to prevent exploding gradients.\n",
        "     - The optimizer updates the model weights.\n",
        "   - The average training loss for the epoch is calculated and stored.\n",
        "\n",
        "2. **Validation Phase**\n",
        "   - The model is switched to evaluation mode.\n",
        "   - No gradients are computed.\n",
        "   - For each batch in the validation data:\n",
        "     - The loss and predictions are computed.\n",
        "     - Predictions and ground truth labels are collected for accuracy calculation.\n",
        "   - Average validation loss and accuracy are computed and logged.\n",
        "\n",
        "Metrics tracked per epoch:\n",
        "- `train_losses`: average training loss\n",
        "- `val_losses`: average validation loss\n",
        "- `val_accuracies`: accuracy on the validation set\n",
        "\n",
        "At the end of each epoch, the current training/validation performance is printed to the console."
      ],
      "metadata": {
        "id": "oHxdu14hWOO3"
      }
    },
    {
      "cell_type": "code",
      "source": [
        "model = DeBERTaWithBiLSTM(hidden_dim=hidden_dim, dropout=dropout).to(device)\n",
        "optimizer = torch.optim.AdamW(model.parameters(), lr=learning_rate, weight_decay=weight_decay)\n",
        "\n",
        "train_losses, val_losses, val_accuracies = [], [], []\n",
        "\n",
        "for epoch in range(num_epochs):\n",
        "    model.train()\n",
        "    total_train_loss = 0\n",
        "    for batch in train_loader:\n",
        "        optimizer.zero_grad()\n",
        "        outputs = model(\n",
        "            input_ids=batch[\"input_ids\"].to(device),\n",
        "            attention_mask=batch[\"attention_mask\"].to(device),\n",
        "            labels=batch[\"labels\"].to(device)\n",
        "        )\n",
        "        loss = outputs[\"loss\"]\n",
        "        loss.backward()\n",
        "        torch.nn.utils.clip_grad_norm_(model.parameters(), max_norm=1.0)\n",
        "        optimizer.step()\n",
        "        total_train_loss += loss.item()\n",
        "\n",
        "    avg_train_loss = total_train_loss / len(train_loader)\n",
        "    train_losses.append(avg_train_loss)\n",
        "\n",
        "    # Evaluation\n",
        "    model.eval()\n",
        "    all_preds, all_labels = [], []\n",
        "    total_val_loss = 0\n",
        "    with torch.no_grad():\n",
        "        for batch in val_loader:\n",
        "            outputs = model(\n",
        "                input_ids=batch[\"input_ids\"].to(device),\n",
        "                attention_mask=batch[\"attention_mask\"].to(device),\n",
        "                labels=batch[\"labels\"].to(device)\n",
        "            )\n",
        "            loss = outputs[\"loss\"]\n",
        "            total_val_loss += loss.item()\n",
        "            preds = torch.argmax(outputs[\"logits\"], dim=1)\n",
        "            all_preds.extend(preds.cpu().numpy())\n",
        "            all_labels.extend(batch[\"labels\"].cpu().numpy())\n",
        "\n",
        "    avg_val_loss = total_val_loss / len(val_loader)\n",
        "    val_acc = accuracy_score(all_labels, all_preds)\n",
        "    val_losses.append(avg_val_loss)\n",
        "    val_accuracies.append(val_acc)\n",
        "\n",
        "    print(f\"Epoch {epoch+1}/{num_epochs} ✅ Train Loss: {avg_train_loss:.4f} | Val Loss: {avg_val_loss:.4f} | Val Acc: {val_acc:.4f}\")\n"
      ],
      "metadata": {
        "trusted": true,
        "execution": {
          "iopub.status.busy": "2025-04-07T22:19:11.938725Z",
          "iopub.execute_input": "2025-04-07T22:19:11.939032Z",
          "iopub.status.idle": "2025-04-07T23:01:10.997446Z",
          "shell.execute_reply.started": "2025-04-07T22:19:11.939009Z",
          "shell.execute_reply": "2025-04-07T23:01:10.996393Z"
        },
        "id": "BjLCE_TCBUXs",
        "outputId": "a98f76b4-6957-43b5-ab9a-9c54085c73b4"
      },
      "outputs": [
        {
          "name": "stdout",
          "text": "Epoch 1/6 ✅ Train Loss: 0.3708 | Val Loss: 0.2391 | Val Acc: 0.9109\nEpoch 2/6 ✅ Train Loss: 0.1922 | Val Loss: 0.2566 | Val Acc: 0.9132\nEpoch 3/6 ✅ Train Loss: 0.1285 | Val Loss: 0.2899 | Val Acc: 0.9164\nEpoch 4/6 ✅ Train Loss: 0.0917 | Val Loss: 0.3322 | Val Acc: 0.9175\nEpoch 5/6 ✅ Train Loss: 0.0675 | Val Loss: 0.3538 | Val Acc: 0.9195\nEpoch 6/6 ✅ Train Loss: 0.0480 | Val Loss: 0.4154 | Val Acc: 0.9198\n",
          "output_type": "stream"
        }
      ],
      "execution_count": null
    },
    {
      "cell_type": "markdown",
      "source": [
        "## Save Trained Model\n",
        "\n",
        "The best model is saved to disk using `torch.save()` and also zipped for deployment or submission. The file saved is:\n",
        "- `best_deberta_bilstm_model.pt`\n",
        "- Zipped version: `deberta_model.zip`\n"
      ],
      "metadata": {
        "id": "8Gasr2aFEXbO"
      }
    },
    {
      "cell_type": "code",
      "source": [
        "torch.save(model.state_dict(), \"best_deberta_bilstm_model_resave.pt\")\n",
        "print(\"✅ Model saved successfully!\")\n"
      ],
      "metadata": {
        "trusted": true,
        "execution": {
          "iopub.status.busy": "2025-04-07T23:29:10.673043Z",
          "iopub.execute_input": "2025-04-07T23:29:10.673383Z",
          "iopub.status.idle": "2025-04-07T23:29:11.924188Z",
          "shell.execute_reply.started": "2025-04-07T23:29:10.673358Z",
          "shell.execute_reply": "2025-04-07T23:29:11.923402Z"
        },
        "id": "39FNGOkxBUXs",
        "outputId": "631172f9-08bb-4af1-a083-f79a2ac07884"
      },
      "outputs": [
        {
          "name": "stdout",
          "text": "✅ Model saved successfully!\n",
          "output_type": "stream"
        }
      ],
      "execution_count": null
    },
    {
      "cell_type": "code",
      "source": [
        "import zipfile\n",
        "\n",
        "with zipfile.ZipFile(\"/kaggle/working/deberta_model.zip\", \"w\") as zipf:\n",
        "    zipf.write(\"/kaggle/working/best_deberta_bilstm_model.pt\", arcname=\"best_deberta_bilstm_model.pt\")\n",
        "\n",
        "print(\"✅ Model zipped successfully as deberta_model.zip\")\n"
      ],
      "metadata": {
        "trusted": true,
        "execution": {
          "iopub.status.busy": "2025-04-07T23:23:37.945646Z",
          "iopub.execute_input": "2025-04-07T23:23:37.945966Z",
          "iopub.status.idle": "2025-04-07T23:23:39.594292Z",
          "shell.execute_reply.started": "2025-04-07T23:23:37.945944Z",
          "shell.execute_reply": "2025-04-07T23:23:39.593532Z"
        },
        "id": "E5sZJDr8BUXs",
        "outputId": "bb87555e-f05c-4553-a549-39d567c53dde"
      },
      "outputs": [
        {
          "name": "stdout",
          "text": "✅ Model zipped successfully as deberta_model.zip\n",
          "output_type": "stream"
        }
      ],
      "execution_count": null
    },
    {
      "cell_type": "markdown",
      "source": [
        "## Generate and Save Predictions\n",
        "\n",
        "Predictions on the validation set are computed using the trained model in evaluation mode. These predictions are appended to the `dev.csv` file and exported to `predictions.csv` for further analysis.\n"
      ],
      "metadata": {
        "id": "JM84dMGpEZJ_"
      }
    },
    {
      "cell_type": "code",
      "source": [
        "# Predict on validation set\n",
        "model.eval()\n",
        "all_preds = []\n",
        "with torch.no_grad():\n",
        "    for batch in val_loader:\n",
        "        outputs = model(\n",
        "            input_ids=batch[\"input_ids\"].to(device),\n",
        "            attention_mask=batch[\"attention_mask\"].to(device)\n",
        "        )\n",
        "        preds = torch.argmax(outputs[\"logits\"], dim=1)\n",
        "        all_preds.extend(preds.cpu().numpy())\n",
        "\n",
        "# Save predictions\n",
        "df_val[\"prediction\"] = all_preds\n",
        "df_val.to_csv(\"predictions.csv\", index=False)\n",
        "print(\"✅ Predictions saved to predictions.csv\")\n"
      ],
      "metadata": {
        "trusted": true,
        "execution": {
          "iopub.status.busy": "2025-04-07T23:01:12.994105Z",
          "iopub.execute_input": "2025-04-07T23:01:12.994354Z",
          "iopub.status.idle": "2025-04-07T23:01:46.215576Z",
          "shell.execute_reply.started": "2025-04-07T23:01:12.994333Z",
          "shell.execute_reply": "2025-04-07T23:01:46.214733Z"
        },
        "id": "CyIELv1IBUXt",
        "outputId": "49e1f412-f8c2-496e-cd97-60ed26b54f50"
      },
      "outputs": [
        {
          "name": "stdout",
          "text": "✅ Predictions saved to predictions.csv\n",
          "output_type": "stream"
        }
      ],
      "execution_count": null
    },
    {
      "cell_type": "code",
      "source": [
        "print(\"\\nClassification Report:\\n\")\n",
        "print(classification_report(df_val['label'], df_val['prediction']))\n",
        "\n",
        "print(\"Confusion Matrix:\")\n",
        "print(confusion_matrix(df_val['label'], df_val['prediction']))\n"
      ],
      "metadata": {
        "trusted": true,
        "execution": {
          "iopub.status.busy": "2025-04-07T23:01:46.216396Z",
          "iopub.execute_input": "2025-04-07T23:01:46.216736Z",
          "iopub.status.idle": "2025-04-07T23:01:46.234913Z",
          "shell.execute_reply.started": "2025-04-07T23:01:46.216703Z",
          "shell.execute_reply": "2025-04-07T23:01:46.234059Z"
        },
        "id": "i4ZkKYC-BUXt",
        "outputId": "d7442e8a-7e4b-42bf-a67f-16d9a785aa51"
      },
      "outputs": [
        {
          "name": "stdout",
          "text": "\nClassification Report:\n\n              precision    recall  f1-score   support\n\n           0       0.93      0.90      0.92      3258\n           1       0.91      0.93      0.92      3478\n\n    accuracy                           0.92      6736\n   macro avg       0.92      0.92      0.92      6736\nweighted avg       0.92      0.92      0.92      6736\n\nConfusion Matrix:\n[[2947  311]\n [ 229 3249]]\n",
          "output_type": "stream"
        }
      ],
      "execution_count": null
    },
    {
      "cell_type": "code",
      "source": [
        "plt.figure(figsize=(10,4))\n",
        "\n",
        "plt.subplot(1,2,1)\n",
        "plt.plot(train_losses, label='Train Loss')\n",
        "plt.plot(val_losses, label='Val Loss')\n",
        "plt.title(\"Loss Curve\")\n",
        "plt.xlabel(\"Epoch\")\n",
        "plt.ylabel(\"Loss\")\n",
        "plt.legend()\n",
        "\n",
        "plt.subplot(1,2,2)\n",
        "plt.plot(val_accuracies, label='Val Accuracy', color='green')\n",
        "plt.title(\"Validation Accuracy\")\n",
        "plt.xlabel(\"Epoch\")\n",
        "plt.ylabel(\"Accuracy\")\n",
        "plt.legend()\n",
        "\n",
        "plt.tight_layout()\n",
        "plt.show()\n"
      ],
      "metadata": {
        "trusted": true,
        "execution": {
          "iopub.status.busy": "2025-04-07T23:01:46.235711Z",
          "iopub.execute_input": "2025-04-07T23:01:46.236034Z",
          "iopub.status.idle": "2025-04-07T23:01:46.633274Z",
          "shell.execute_reply.started": "2025-04-07T23:01:46.236005Z",
          "shell.execute_reply": "2025-04-07T23:01:46.632443Z"
        },
        "id": "msDEL21xBUXt",
        "outputId": "e678e3f6-1d04-44af-e923-f960c5943069"
      },
      "outputs": [
        {
          "output_type": "display_data",
          "data": {
            "text/plain": "<Figure size 1000x400 with 2 Axes>",
            "image/png": "[encoded data removed]"
          },
          "metadata": {}
        }
      ],
      "execution_count": null
    }
  ]
}